{
 "cells": [
  {
   "cell_type": "markdown",
   "metadata": {},
   "source": [
    "Following actions should be performed:\n",
    "\n",
    "- Identify the output variable.\n",
    "- Understand the type of data.\n",
    "- Check if there are any biases in your dataset.\n",
    "- Check whether all members of the house have the same poverty level.\n",
    "- Check if there is a house without a family head.\n",
    "- Set poverty level of the members and the head of the house within a family.\n",
    "- Count how many null values are existing in columns.\n",
    "- Remove null value rows of the target variable.\n",
    "- Predict the accuracy using random forest classifier.\n",
    "- Check the accuracy using random forest with cross validation."
   ]
  },
  {
   "cell_type": "code",
   "execution_count": 1,
   "metadata": {},
   "outputs": [],
   "source": [
    "# import libraries\n",
    "\n",
    "import pandas as pd\n",
    "import numpy as np\n",
    "from sklearn.model_selection import train_test_split\n",
    "from sklearn.ensemble import RandomForestClassifier\n",
    "from sklearn.metrics import accuracy_score\n",
    "from sklearn.model_selection import cross_val_score\n",
    "import gc as gc\n",
    "from warnings import filterwarnings\n",
    "filterwarnings('ignore')"
   ]
  },
  {
   "cell_type": "code",
   "execution_count": 2,
   "metadata": {
    "tags": []
   },
   "outputs": [],
   "source": [
    "# read csv into dataframe\n",
    "\n",
    "test_df = pd.read_csv('test.csv')"
   ]
  },
  {
   "cell_type": "markdown",
   "metadata": {},
   "source": [
    "# Begin to explore data"
   ]
  },
  {
   "cell_type": "code",
   "execution_count": 3,
   "metadata": {
    "tags": []
   },
   "outputs": [
    {
     "data": {
      "text/html": [
       "<div>\n",
       "<style scoped>\n",
       "    .dataframe tbody tr th:only-of-type {\n",
       "        vertical-align: middle;\n",
       "    }\n",
       "\n",
       "    .dataframe tbody tr th {\n",
       "        vertical-align: top;\n",
       "    }\n",
       "\n",
       "    .dataframe thead th {\n",
       "        text-align: right;\n",
       "    }\n",
       "</style>\n",
       "<table border=\"1\" class=\"dataframe\">\n",
       "  <thead>\n",
       "    <tr style=\"text-align: right;\">\n",
       "      <th></th>\n",
       "      <th>Id</th>\n",
       "      <th>v2a1</th>\n",
       "      <th>hacdor</th>\n",
       "      <th>rooms</th>\n",
       "      <th>hacapo</th>\n",
       "      <th>v14a</th>\n",
       "      <th>refrig</th>\n",
       "      <th>v18q</th>\n",
       "      <th>v18q1</th>\n",
       "      <th>r4h1</th>\n",
       "      <th>...</th>\n",
       "      <th>age</th>\n",
       "      <th>SQBescolari</th>\n",
       "      <th>SQBage</th>\n",
       "      <th>SQBhogar_total</th>\n",
       "      <th>SQBedjefe</th>\n",
       "      <th>SQBhogar_nin</th>\n",
       "      <th>SQBovercrowding</th>\n",
       "      <th>SQBdependency</th>\n",
       "      <th>SQBmeaned</th>\n",
       "      <th>agesq</th>\n",
       "    </tr>\n",
       "  </thead>\n",
       "  <tbody>\n",
       "    <tr>\n",
       "      <th>0</th>\n",
       "      <td>ID_2f6873615</td>\n",
       "      <td>NaN</td>\n",
       "      <td>0</td>\n",
       "      <td>5</td>\n",
       "      <td>0</td>\n",
       "      <td>1</td>\n",
       "      <td>1</td>\n",
       "      <td>0</td>\n",
       "      <td>NaN</td>\n",
       "      <td>1</td>\n",
       "      <td>...</td>\n",
       "      <td>4</td>\n",
       "      <td>0</td>\n",
       "      <td>16</td>\n",
       "      <td>9</td>\n",
       "      <td>0</td>\n",
       "      <td>1</td>\n",
       "      <td>2.25</td>\n",
       "      <td>0.25</td>\n",
       "      <td>272.25</td>\n",
       "      <td>16</td>\n",
       "    </tr>\n",
       "    <tr>\n",
       "      <th>1</th>\n",
       "      <td>ID_1c78846d2</td>\n",
       "      <td>NaN</td>\n",
       "      <td>0</td>\n",
       "      <td>5</td>\n",
       "      <td>0</td>\n",
       "      <td>1</td>\n",
       "      <td>1</td>\n",
       "      <td>0</td>\n",
       "      <td>NaN</td>\n",
       "      <td>1</td>\n",
       "      <td>...</td>\n",
       "      <td>41</td>\n",
       "      <td>256</td>\n",
       "      <td>1681</td>\n",
       "      <td>9</td>\n",
       "      <td>0</td>\n",
       "      <td>1</td>\n",
       "      <td>2.25</td>\n",
       "      <td>0.25</td>\n",
       "      <td>272.25</td>\n",
       "      <td>1681</td>\n",
       "    </tr>\n",
       "    <tr>\n",
       "      <th>2</th>\n",
       "      <td>ID_e5442cf6a</td>\n",
       "      <td>NaN</td>\n",
       "      <td>0</td>\n",
       "      <td>5</td>\n",
       "      <td>0</td>\n",
       "      <td>1</td>\n",
       "      <td>1</td>\n",
       "      <td>0</td>\n",
       "      <td>NaN</td>\n",
       "      <td>1</td>\n",
       "      <td>...</td>\n",
       "      <td>41</td>\n",
       "      <td>289</td>\n",
       "      <td>1681</td>\n",
       "      <td>9</td>\n",
       "      <td>0</td>\n",
       "      <td>1</td>\n",
       "      <td>2.25</td>\n",
       "      <td>0.25</td>\n",
       "      <td>272.25</td>\n",
       "      <td>1681</td>\n",
       "    </tr>\n",
       "    <tr>\n",
       "      <th>3</th>\n",
       "      <td>ID_a8db26a79</td>\n",
       "      <td>NaN</td>\n",
       "      <td>0</td>\n",
       "      <td>14</td>\n",
       "      <td>0</td>\n",
       "      <td>1</td>\n",
       "      <td>1</td>\n",
       "      <td>1</td>\n",
       "      <td>1.0</td>\n",
       "      <td>0</td>\n",
       "      <td>...</td>\n",
       "      <td>59</td>\n",
       "      <td>256</td>\n",
       "      <td>3481</td>\n",
       "      <td>1</td>\n",
       "      <td>256</td>\n",
       "      <td>0</td>\n",
       "      <td>1.00</td>\n",
       "      <td>0.00</td>\n",
       "      <td>256.00</td>\n",
       "      <td>3481</td>\n",
       "    </tr>\n",
       "    <tr>\n",
       "      <th>4</th>\n",
       "      <td>ID_a62966799</td>\n",
       "      <td>175000.0</td>\n",
       "      <td>0</td>\n",
       "      <td>4</td>\n",
       "      <td>0</td>\n",
       "      <td>1</td>\n",
       "      <td>1</td>\n",
       "      <td>1</td>\n",
       "      <td>1.0</td>\n",
       "      <td>0</td>\n",
       "      <td>...</td>\n",
       "      <td>18</td>\n",
       "      <td>121</td>\n",
       "      <td>324</td>\n",
       "      <td>1</td>\n",
       "      <td>0</td>\n",
       "      <td>1</td>\n",
       "      <td>0.25</td>\n",
       "      <td>64.00</td>\n",
       "      <td>NaN</td>\n",
       "      <td>324</td>\n",
       "    </tr>\n",
       "  </tbody>\n",
       "</table>\n",
       "<p>5 rows × 142 columns</p>\n",
       "</div>"
      ],
      "text/plain": [
       "             Id      v2a1  hacdor  rooms  hacapo  v14a  refrig  v18q  v18q1  \\\n",
       "0  ID_2f6873615       NaN       0      5       0     1       1     0    NaN   \n",
       "1  ID_1c78846d2       NaN       0      5       0     1       1     0    NaN   \n",
       "2  ID_e5442cf6a       NaN       0      5       0     1       1     0    NaN   \n",
       "3  ID_a8db26a79       NaN       0     14       0     1       1     1    1.0   \n",
       "4  ID_a62966799  175000.0       0      4       0     1       1     1    1.0   \n",
       "\n",
       "   r4h1  ...  age  SQBescolari  SQBage  SQBhogar_total  SQBedjefe  \\\n",
       "0     1  ...    4            0      16               9          0   \n",
       "1     1  ...   41          256    1681               9          0   \n",
       "2     1  ...   41          289    1681               9          0   \n",
       "3     0  ...   59          256    3481               1        256   \n",
       "4     0  ...   18          121     324               1          0   \n",
       "\n",
       "   SQBhogar_nin  SQBovercrowding  SQBdependency  SQBmeaned  agesq  \n",
       "0             1             2.25           0.25     272.25     16  \n",
       "1             1             2.25           0.25     272.25   1681  \n",
       "2             1             2.25           0.25     272.25   1681  \n",
       "3             0             1.00           0.00     256.00   3481  \n",
       "4             1             0.25          64.00        NaN    324  \n",
       "\n",
       "[5 rows x 142 columns]"
      ]
     },
     "execution_count": 3,
     "metadata": {},
     "output_type": "execute_result"
    }
   ],
   "source": [
    "test_df.head()"
   ]
  },
  {
   "cell_type": "code",
   "execution_count": 4,
   "metadata": {},
   "outputs": [
    {
     "data": {
      "text/plain": [
       "(23856, 142)"
      ]
     },
     "execution_count": 4,
     "metadata": {},
     "output_type": "execute_result"
    }
   ],
   "source": [
    "test_df.shape"
   ]
  },
  {
   "cell_type": "code",
   "execution_count": 5,
   "metadata": {},
   "outputs": [
    {
     "data": {
      "text/plain": [
       "Id                  object\n",
       "v2a1               float64\n",
       "hacdor               int64\n",
       "rooms                int64\n",
       "hacapo               int64\n",
       "v14a                 int64\n",
       "refrig               int64\n",
       "v18q                 int64\n",
       "v18q1              float64\n",
       "r4h1                 int64\n",
       "r4h2                 int64\n",
       "r4h3                 int64\n",
       "r4m1                 int64\n",
       "r4m2                 int64\n",
       "r4m3                 int64\n",
       "r4t1                 int64\n",
       "r4t2                 int64\n",
       "r4t3                 int64\n",
       "tamhog               int64\n",
       "tamviv               int64\n",
       "escolari             int64\n",
       "rez_esc            float64\n",
       "hhsize               int64\n",
       "paredblolad          int64\n",
       "paredzocalo          int64\n",
       "paredpreb            int64\n",
       "pareddes             int64\n",
       "paredmad             int64\n",
       "paredzinc            int64\n",
       "paredfibras          int64\n",
       "paredother           int64\n",
       "pisomoscer           int64\n",
       "pisocemento          int64\n",
       "pisoother            int64\n",
       "pisonatur            int64\n",
       "pisonotiene          int64\n",
       "pisomadera           int64\n",
       "techozinc            int64\n",
       "techoentrepiso       int64\n",
       "techocane            int64\n",
       "techootro            int64\n",
       "cielorazo            int64\n",
       "abastaguadentro      int64\n",
       "abastaguafuera       int64\n",
       "abastaguano          int64\n",
       "public               int64\n",
       "planpri              int64\n",
       "noelec               int64\n",
       "coopele              int64\n",
       "sanitario1           int64\n",
       "sanitario2           int64\n",
       "sanitario3           int64\n",
       "sanitario5           int64\n",
       "sanitario6           int64\n",
       "energcocinar1        int64\n",
       "energcocinar2        int64\n",
       "energcocinar3        int64\n",
       "energcocinar4        int64\n",
       "elimbasu1            int64\n",
       "elimbasu2            int64\n",
       "elimbasu3            int64\n",
       "elimbasu4            int64\n",
       "elimbasu5            int64\n",
       "elimbasu6            int64\n",
       "epared1              int64\n",
       "epared2              int64\n",
       "epared3              int64\n",
       "etecho1              int64\n",
       "etecho2              int64\n",
       "etecho3              int64\n",
       "eviv1                int64\n",
       "eviv2                int64\n",
       "eviv3                int64\n",
       "dis                  int64\n",
       "male                 int64\n",
       "female               int64\n",
       "estadocivil1         int64\n",
       "estadocivil2         int64\n",
       "estadocivil3         int64\n",
       "estadocivil4         int64\n",
       "estadocivil5         int64\n",
       "estadocivil6         int64\n",
       "estadocivil7         int64\n",
       "parentesco1          int64\n",
       "parentesco2          int64\n",
       "parentesco3          int64\n",
       "parentesco4          int64\n",
       "parentesco5          int64\n",
       "parentesco6          int64\n",
       "parentesco7          int64\n",
       "parentesco8          int64\n",
       "parentesco9          int64\n",
       "parentesco10         int64\n",
       "parentesco11         int64\n",
       "parentesco12         int64\n",
       "idhogar             object\n",
       "hogar_nin            int64\n",
       "hogar_adul           int64\n",
       "hogar_mayor          int64\n",
       "hogar_total          int64\n",
       "dependency          object\n",
       "edjefe              object\n",
       "edjefa              object\n",
       "meaneduc           float64\n",
       "instlevel1           int64\n",
       "instlevel2           int64\n",
       "instlevel3           int64\n",
       "instlevel4           int64\n",
       "instlevel5           int64\n",
       "instlevel6           int64\n",
       "instlevel7           int64\n",
       "instlevel8           int64\n",
       "instlevel9           int64\n",
       "bedrooms             int64\n",
       "overcrowding       float64\n",
       "tipovivi1            int64\n",
       "tipovivi2            int64\n",
       "tipovivi3            int64\n",
       "tipovivi4            int64\n",
       "tipovivi5            int64\n",
       "computer             int64\n",
       "television           int64\n",
       "mobilephone          int64\n",
       "qmobilephone         int64\n",
       "lugar1               int64\n",
       "lugar2               int64\n",
       "lugar3               int64\n",
       "lugar4               int64\n",
       "lugar5               int64\n",
       "lugar6               int64\n",
       "area1                int64\n",
       "area2                int64\n",
       "age                  int64\n",
       "SQBescolari          int64\n",
       "SQBage               int64\n",
       "SQBhogar_total       int64\n",
       "SQBedjefe            int64\n",
       "SQBhogar_nin         int64\n",
       "SQBovercrowding    float64\n",
       "SQBdependency      float64\n",
       "SQBmeaned          float64\n",
       "agesq                int64\n",
       "dtype: object"
      ]
     },
     "execution_count": 5,
     "metadata": {},
     "output_type": "execute_result"
    }
   ],
   "source": [
    "pd.set_option('display.max_rows', 200)\n",
    "test_df.dtypes"
   ]
  },
  {
   "cell_type": "markdown",
   "metadata": {},
   "source": [
    "# 1. Identify the output variable:"
   ]
  },
  {
   "cell_type": "markdown",
   "metadata": {},
   "source": [
    "In looking at the data dictionary, the only variables that are monetary in nature are rental payments and status of household ownership. Going to explore those two to see which one seems like a better target variable"
   ]
  },
  {
   "cell_type": "code",
   "execution_count": 6,
   "metadata": {},
   "outputs": [],
   "source": [
    "# create dataframes for all levels of household ownership\n",
    "\n",
    "own_df = test_df[test_df['tipovivi1'] == 1]\n",
    "inst_df = test_df[test_df['tipovivi2'] == 1]\n",
    "rent_df = test_df[test_df['tipovivi3'] == 1]\n",
    "prec_df = test_df[test_df['tipovivi4'] == 1]\n",
    "other_df = test_df[test_df['tipovivi5'] == 1]"
   ]
  },
  {
   "cell_type": "markdown",
   "metadata": {},
   "source": [
    "- Now to check rental payment values for all levels of household ownership"
   ]
  },
  {
   "cell_type": "code",
   "execution_count": 7,
   "metadata": {},
   "outputs": [
    {
     "data": {
      "text/plain": [
       "array([nan])"
      ]
     },
     "execution_count": 7,
     "metadata": {},
     "output_type": "execute_result"
    }
   ],
   "source": [
    "# all rental payment values for those who own their house\n",
    "\n",
    "own_df['v2a1'].unique()"
   ]
  },
  {
   "cell_type": "code",
   "execution_count": 8,
   "metadata": {},
   "outputs": [
    {
     "data": {
      "text/plain": [
       "array([ 400000.,  350000.,   50000.,  175000.,  200000.,  570540.,\n",
       "        499222.,       0.,  180000.,  135000.,  500000.,  450000.,\n",
       "        285270.,  100000.,  370000.,  300000.,   85000.,  150000.,\n",
       "        105000.,  385000.,  257000.,  230000.,  130000.,  260000.,\n",
       "        250000.,   63000.,  478000.,  545000.,  210000.,  340000.,\n",
       "        600000., 1000000.,  650000.,  140000.,  800000.,  258750.,\n",
       "        154000.,   70000.,   61000.,  320000.,  570000.,   90000.,\n",
       "        900000.,  342324.,  235000.,   54000.,  352000.,  170000.,\n",
       "        171162.,   60000.,  120000.,  220000.,  399378.,  456432.,\n",
       "        375000.,  125000.,  127000.,  160000.,  190000.,  145000.,\n",
       "        227000.,  380000.,  318000.,  173000.,  225000.,  280000.,\n",
       "        290000.,   80000.,   95000.,   69000.,  182000.,  550000.,\n",
       "        310000.,  215000.,   62000.,   33000.,   35000.,  103000.,\n",
       "        286981.,  383000.,  303000.,   10000.,  365000.,  228216.,\n",
       "        111000.,  174000.,  410788.,  912864.,   97000.,  612000.,\n",
       "        855810.,  249000.,   52000.,   55000.,  110000.,  416494.,\n",
       "        337000.,  146000.,   40000.,   75000.,  798756.,  192000.,\n",
       "         87000.,   42000.,  191000.,   30000.,  240000.,  185000.,\n",
       "        670000.,  410000.,  167000.,  102000.,  108000.,  390000.,\n",
       "        140580.,  115000.,  196000.,  270000.,   65000.,  420000.,\n",
       "        610000.,  186000.,  107000.,   11410.,  360000.,  116000.,\n",
       "        202000.,   20000.,   31000.,   48380.,  157000.,  242000.,\n",
       "        241000.,  840000.,  525000.,  325000.,  232000.,  445021.,\n",
       "        256742.,   25000.,  630000.,  245000.,  700000.,  117000.,\n",
       "        593361.,  152000.,  348029.,   45000.,  136000.,   41000.,\n",
       "         78000.,   13100.,   19000.,  520000.,  684648.,  233921.,\n",
       "         18000.,   15000.,  178000.,   28000.,   83000.,   98000.,\n",
       "         57000.,  164000.,   68000.,   12000.,  207000.,  138000.,\n",
       "         15800.,  106000.,   43000.,   22000.,  165000.,  285000.,\n",
       "         86000.,  221000.,   32000.,  112000.,  415000.,  540000.,\n",
       "         47000.,   82000.,   76000.,  147000.,  218000.,   59000.,\n",
       "        315000.,   53000.,  251000.,   27000.,   58000.,   37000.,\n",
       "         66000.,   16000.,   26000.,   56000.,   46500.])"
      ]
     },
     "execution_count": 8,
     "metadata": {},
     "output_type": "execute_result"
    }
   ],
   "source": [
    "# all rental payment values for those who own and are paying installments on their house\n",
    "\n",
    "inst_df['v2a1'].unique()"
   ]
  },
  {
   "cell_type": "code",
   "execution_count": 9,
   "metadata": {},
   "outputs": [
    {
     "data": {
      "text/plain": [
       "array([ 175000.,  300000.,   90000.,  200000.,  240000.,  210000.,\n",
       "        275000.,  170000.,  230000.,   42183.,   27419.,  120000.,\n",
       "        150000.,  135000.,  105000.,  145000.,  100000.,  245000.,\n",
       "        325000.,  140000.,  220000.,  250000.,  160000.,  225000.,\n",
       "        260000.,  130000.,   60000.,   50000.,  500000.,  350000.,\n",
       "        370851., 2852700.,  399378.,  180000.,  190000.,  627594.,\n",
       "        110000.,  270000.,  125000.,  550000.,  280000.,  342324.,\n",
       "         85000.,   80000.,  165000.,  192000., 1026971., 1426350.,\n",
       "        215000.,  352000.,  400000.,  115000.,   65000.,  155000.,\n",
       "        285000.,   91573.,   92000.,   70000.,  450000.,  360000.,\n",
       "         75000.,   95000.,  195000.,  513485.,  112000.,  253500.,\n",
       "        328060.,  285270.,  266000.,  320000.,   86000.,  206540.,\n",
       "        270008.,  460000.,  315000.,  290000.,  300008.,  340000.,\n",
       "         78000.,   55000.,  167738.,  770229.,  370000.,  185000.,\n",
       "        713175., 1141080.,       0.,   25000.,  484958.,  313797.,\n",
       "         40000.,   53158.,  600000.,  158000., 1000000.,  172000.,\n",
       "         94932.,  265000.,  132000.,  233175.,  427905.,  103000.,\n",
       "        570540.,  171162.,  456432.,  228216.,   51244.,  268000.,\n",
       "         62539.,  104641.,  195019.,  122207.,  480000.,   43000.,\n",
       "         35000.,   30000.,   45000.,  114108.,  127186.,   15000.,\n",
       "         72000.,  249896.,   37965.,  142635.,   50620.,  256742.,\n",
       "         76000.,   50874.,   59354.,   32000.,   20000.,   66000.,\n",
       "         68000.,   12000.,   52000.,   42395.])"
      ]
     },
     "execution_count": 9,
     "metadata": {},
     "output_type": "execute_result"
    }
   ],
   "source": [
    "# all rental payment values for those who rent their house\n",
    "\n",
    "rent_df['v2a1'].unique()"
   ]
  },
  {
   "cell_type": "code",
   "execution_count": 10,
   "metadata": {},
   "outputs": [
    {
     "data": {
      "text/plain": [
       "array([nan])"
      ]
     },
     "execution_count": 10,
     "metadata": {},
     "output_type": "execute_result"
    }
   ],
   "source": [
    "# all rental payment values for those whose ownership status is precarious\n",
    "\n",
    "prec_df['v2a1'].unique()"
   ]
  },
  {
   "cell_type": "code",
   "execution_count": 11,
   "metadata": {},
   "outputs": [
    {
     "data": {
      "text/plain": [
       "array([nan])"
      ]
     },
     "execution_count": 11,
     "metadata": {},
     "output_type": "execute_result"
    }
   ],
   "source": [
    "# all rental payment values for those who fall into \"other\"\n",
    "\n",
    "other_df['v2a1'].unique()"
   ]
  },
  {
   "cell_type": "markdown",
   "metadata": {},
   "source": [
    " - Given the type of data collected for this set, the only true identifiers of monetary situation would be monthly rent payment and status of house ownership. Since the \"Rental Payments' is 'nan' for both extremes (\"owned and fully paid house\" on one end, and \"precarious\" or \"other\" on the other), I believe the strongest indicator of level of poverty is level of house ownership, so that will be our output variable."
   ]
  },
  {
   "cell_type": "markdown",
   "metadata": {},
   "source": [
    "# 2. Understand the type of data."
   ]
  },
  {
   "cell_type": "code",
   "execution_count": 12,
   "metadata": {},
   "outputs": [
    {
     "data": {
      "text/plain": [
       "Id                  object\n",
       "v2a1               float64\n",
       "hacdor               int64\n",
       "rooms                int64\n",
       "hacapo               int64\n",
       "v14a                 int64\n",
       "refrig               int64\n",
       "v18q                 int64\n",
       "v18q1              float64\n",
       "r4h1                 int64\n",
       "r4h2                 int64\n",
       "r4h3                 int64\n",
       "r4m1                 int64\n",
       "r4m2                 int64\n",
       "r4m3                 int64\n",
       "r4t1                 int64\n",
       "r4t2                 int64\n",
       "r4t3                 int64\n",
       "tamhog               int64\n",
       "tamviv               int64\n",
       "escolari             int64\n",
       "rez_esc            float64\n",
       "hhsize               int64\n",
       "paredblolad          int64\n",
       "paredzocalo          int64\n",
       "paredpreb            int64\n",
       "pareddes             int64\n",
       "paredmad             int64\n",
       "paredzinc            int64\n",
       "paredfibras          int64\n",
       "paredother           int64\n",
       "pisomoscer           int64\n",
       "pisocemento          int64\n",
       "pisoother            int64\n",
       "pisonatur            int64\n",
       "pisonotiene          int64\n",
       "pisomadera           int64\n",
       "techozinc            int64\n",
       "techoentrepiso       int64\n",
       "techocane            int64\n",
       "techootro            int64\n",
       "cielorazo            int64\n",
       "abastaguadentro      int64\n",
       "abastaguafuera       int64\n",
       "abastaguano          int64\n",
       "public               int64\n",
       "planpri              int64\n",
       "noelec               int64\n",
       "coopele              int64\n",
       "sanitario1           int64\n",
       "sanitario2           int64\n",
       "sanitario3           int64\n",
       "sanitario5           int64\n",
       "sanitario6           int64\n",
       "energcocinar1        int64\n",
       "energcocinar2        int64\n",
       "energcocinar3        int64\n",
       "energcocinar4        int64\n",
       "elimbasu1            int64\n",
       "elimbasu2            int64\n",
       "elimbasu3            int64\n",
       "elimbasu4            int64\n",
       "elimbasu5            int64\n",
       "elimbasu6            int64\n",
       "epared1              int64\n",
       "epared2              int64\n",
       "epared3              int64\n",
       "etecho1              int64\n",
       "etecho2              int64\n",
       "etecho3              int64\n",
       "eviv1                int64\n",
       "eviv2                int64\n",
       "eviv3                int64\n",
       "dis                  int64\n",
       "male                 int64\n",
       "female               int64\n",
       "estadocivil1         int64\n",
       "estadocivil2         int64\n",
       "estadocivil3         int64\n",
       "estadocivil4         int64\n",
       "estadocivil5         int64\n",
       "estadocivil6         int64\n",
       "estadocivil7         int64\n",
       "parentesco1          int64\n",
       "parentesco2          int64\n",
       "parentesco3          int64\n",
       "parentesco4          int64\n",
       "parentesco5          int64\n",
       "parentesco6          int64\n",
       "parentesco7          int64\n",
       "parentesco8          int64\n",
       "parentesco9          int64\n",
       "parentesco10         int64\n",
       "parentesco11         int64\n",
       "parentesco12         int64\n",
       "idhogar             object\n",
       "hogar_nin            int64\n",
       "hogar_adul           int64\n",
       "hogar_mayor          int64\n",
       "hogar_total          int64\n",
       "dependency          object\n",
       "edjefe              object\n",
       "edjefa              object\n",
       "meaneduc           float64\n",
       "instlevel1           int64\n",
       "instlevel2           int64\n",
       "instlevel3           int64\n",
       "instlevel4           int64\n",
       "instlevel5           int64\n",
       "instlevel6           int64\n",
       "instlevel7           int64\n",
       "instlevel8           int64\n",
       "instlevel9           int64\n",
       "bedrooms             int64\n",
       "overcrowding       float64\n",
       "tipovivi1            int64\n",
       "tipovivi2            int64\n",
       "tipovivi3            int64\n",
       "tipovivi4            int64\n",
       "tipovivi5            int64\n",
       "computer             int64\n",
       "television           int64\n",
       "mobilephone          int64\n",
       "qmobilephone         int64\n",
       "lugar1               int64\n",
       "lugar2               int64\n",
       "lugar3               int64\n",
       "lugar4               int64\n",
       "lugar5               int64\n",
       "lugar6               int64\n",
       "area1                int64\n",
       "area2                int64\n",
       "age                  int64\n",
       "SQBescolari          int64\n",
       "SQBage               int64\n",
       "SQBhogar_total       int64\n",
       "SQBedjefe            int64\n",
       "SQBhogar_nin         int64\n",
       "SQBovercrowding    float64\n",
       "SQBdependency      float64\n",
       "SQBmeaned          float64\n",
       "agesq                int64\n",
       "dtype: object"
      ]
     },
     "execution_count": 12,
     "metadata": {},
     "output_type": "execute_result"
    }
   ],
   "source": [
    "# see entire list of column names and data types\n",
    "\n",
    "test_df.dtypes"
   ]
  },
  {
   "cell_type": "markdown",
   "metadata": {},
   "source": [
    "# 3. Check if there are any biases in your dataset."
   ]
  },
  {
   "cell_type": "markdown",
   "metadata": {},
   "source": [
    " - In order to check for biases in the data, I want to see if the data is sufficiently representative of the population. I decided to do this by checking the data that was not indiciative of the condition of the household or the numbers of residents -- namely the ownership level of the house (to make sure we had enough of each level of ownership for modeling purposes), and the geographic region the individual was living in. Thus we will check the distribution of these variables."
   ]
  },
  {
   "cell_type": "code",
   "execution_count": 13,
   "metadata": {},
   "outputs": [
    {
     "name": "stdout",
     "output_type": "stream",
     "text": [
      "(14933, 142)\n",
      "(2537, 142)\n",
      "(3916, 142)\n",
      "(434, 142)\n",
      "(2036, 142)\n"
     ]
    }
   ],
   "source": [
    "# checking the distribution of house ownership levels\n",
    "\n",
    "print(own_df.shape)\n",
    "print(inst_df.shape)\n",
    "print(rent_df.shape)\n",
    "print(prec_df.shape)\n",
    "print(other_df.shape)"
   ]
  },
  {
   "cell_type": "markdown",
   "metadata": {},
   "source": [
    " - This distirbution seems reasonable to me as we have a majority of respondents who own their home, but enough in all the ownership levels to continue with building the model"
   ]
  },
  {
   "cell_type": "markdown",
   "metadata": {},
   "source": [
    "From the information given we will create small dataframes of the following columns and their corresponding geographic information and then check the shape of each to get a sense of the distribution of the data:\n",
    "\n",
    "- lugar1 = Central\n",
    "- lugar2 = Chorotega\n",
    "- lugar3 = PacÃfico central\n",
    "- lugar4 = Brunca\n",
    "- lugar5 = Huetar AtlÃ¡ntica\n",
    "- lugar6 = Huetar Norte\n",
    "\n",
    "- area1 = urban\n",
    "- area2 = rural"
   ]
  },
  {
   "cell_type": "code",
   "execution_count": 14,
   "metadata": {},
   "outputs": [
    {
     "name": "stdout",
     "output_type": "stream",
     "text": [
      "(13852, 142)\n",
      "(1974, 142)\n",
      "(1744, 142)\n",
      "(2064, 142)\n",
      "(2377, 142)\n",
      "(1845, 142)\n"
     ]
    }
   ],
   "source": [
    "# creating the 'lugar' dataframes and printing their respective shapes to see the distribution (given by the number of rows in each dataframe).\n",
    "\n",
    "cent_df = test_df[test_df['lugar1'] == 1]\n",
    "chor_df = test_df[test_df['lugar2'] == 1]\n",
    "pac_df = test_df[test_df['lugar3'] == 1]\n",
    "bru_df = test_df[test_df['lugar4'] == 1]\n",
    "ha_df = test_df[test_df['lugar5'] == 1]\n",
    "hn_df = test_df[test_df['lugar6'] == 1]\n",
    "\n",
    "print(cent_df.shape)\n",
    "print(chor_df.shape)\n",
    "print(pac_df.shape)\n",
    "print(bru_df.shape)\n",
    "print(ha_df.shape)\n",
    "print(hn_df.shape)"
   ]
  },
  {
   "cell_type": "code",
   "execution_count": 15,
   "metadata": {},
   "outputs": [
    {
     "name": "stdout",
     "output_type": "stream",
     "text": [
      "(17216, 142)\n",
      "(6640, 142)\n"
     ]
    }
   ],
   "source": [
    "# creating the urban vs rural dataframes and printing their respective shapes to see the distribution.\n",
    "\n",
    "urban_df = test_df[test_df['area1'] == 1]\n",
    "rural_df = test_df[test_df['area2'] == 1]\n",
    "\n",
    "print(urban_df.shape)\n",
    "print(rural_df.shape)"
   ]
  },
  {
   "cell_type": "code",
   "execution_count": 16,
   "metadata": {},
   "outputs": [
    {
     "data": {
      "text/plain": [
       "0.721663313212609"
      ]
     },
     "execution_count": 16,
     "metadata": {},
     "output_type": "execute_result"
    }
   ],
   "source": [
    "# checking the percentage of our population who live in urban areas\n",
    "# as that was the only real-life statistic I was able to find in searching on Google to check this dataset against for potential bias\n",
    "\n",
    "17216/(17216+6640)"
   ]
  },
  {
   "cell_type": "markdown",
   "metadata": {},
   "source": [
    "A quick Google search indicates that roughly 81% of Costa Ricans lived in urban areas from 2011 - 2021. The ratio we have gotten of urban vs rural (~72% of our dataset lives in urban areas) seems representative enough to me to not indicate significant level of bias in the data. I would even go so far as to say that it is more likely for those who are impoverished to <ins>*not*</ins> be living in urban areas, and thus our dataset will allow us to identify more of the population  who are in need of aid."
   ]
  },
  {
   "cell_type": "markdown",
   "metadata": {},
   "source": [
    "# 4. Check whether all members of the house have the same poverty level."
   ]
  },
  {
   "cell_type": "markdown",
   "metadata": {},
   "source": [
    " - If all the members of a given household have the same poverty level (in our case, level of house ownership) then I can create a list of household IDs ('idhogar') for each of the five dataframes I have and check for any Household IDs that appear in multiple lists. If there are none, then every member of every house has been given the same poverty level.\n",
    "\n",
    "First, create lists of the Household IDs ('idhogar') for each dataframe representing a given level of house ownership."
   ]
  },
  {
   "cell_type": "code",
   "execution_count": 17,
   "metadata": {},
   "outputs": [],
   "source": [
    "# create list for all homes that are owned\n",
    "\n",
    "own_ids = own_df['idhogar'].tolist()"
   ]
  },
  {
   "cell_type": "code",
   "execution_count": 18,
   "metadata": {},
   "outputs": [
    {
     "data": {
      "text/plain": [
       "14933"
      ]
     },
     "execution_count": 18,
     "metadata": {},
     "output_type": "execute_result"
    }
   ],
   "source": [
    "# confirm length of list matches with shape above\n",
    "\n",
    "len(own_ids)"
   ]
  },
  {
   "cell_type": "code",
   "execution_count": 19,
   "metadata": {},
   "outputs": [],
   "source": [
    "# repeat the above for all other ownership levels\n",
    "\n",
    "inst_ids = inst_df['idhogar'].tolist()\n",
    "rent_ids = rent_df['idhogar'].tolist()\n",
    "prec_ids = prec_df['idhogar'].tolist()\n",
    "other_ids = other_df['idhogar'].tolist()"
   ]
  },
  {
   "cell_type": "code",
   "execution_count": 20,
   "metadata": {},
   "outputs": [
    {
     "name": "stdout",
     "output_type": "stream",
     "text": [
      "2537\n",
      "3916\n",
      "434\n",
      "2036\n"
     ]
    }
   ],
   "source": [
    "print(len(inst_ids))\n",
    "print(len(rent_ids))\n",
    "print(len(prec_ids))\n",
    "print(len(other_ids))"
   ]
  },
  {
   "cell_type": "markdown",
   "metadata": {},
   "source": [
    " - Check to see if any household ID shows up in multiple lists (which would indicate members of the same house have been classified differently based on my chosen metric).\n",
    " \n",
    "Given 5 lists where we have to check the different possible pairings without care for the order, we need to check 10 total pairings. We can use the set().intersection() command to give us the set of any items which appear in both lists. If our data is correct, all sets should be empty!"
   ]
  },
  {
   "cell_type": "code",
   "execution_count": 21,
   "metadata": {},
   "outputs": [
    {
     "name": "stdout",
     "output_type": "stream",
     "text": [
      "set()\n",
      "set()\n",
      "set()\n",
      "set()\n",
      "set()\n",
      "set()\n",
      "set()\n",
      "set()\n",
      "set()\n",
      "set()\n"
     ]
    }
   ],
   "source": [
    "print(set(own_ids).intersection(inst_ids))\n",
    "print(set(own_ids).intersection(rent_ids))\n",
    "print(set(own_ids).intersection(prec_ids))\n",
    "print(set(own_ids).intersection(other_ids))\n",
    "print(set(inst_ids).intersection(rent_ids))\n",
    "print(set(inst_ids).intersection(prec_ids))\n",
    "print(set(inst_ids).intersection(other_ids))\n",
    "print(set(rent_ids).intersection(prec_ids))\n",
    "print(set(rent_ids).intersection(other_ids))\n",
    "print(set(prec_ids).intersection(other_ids))"
   ]
  },
  {
   "cell_type": "markdown",
   "metadata": {},
   "source": [
    " - Since all sets are empty, we can conclude that all members of a given household have been given the same poverty level i.e. household ownership level"
   ]
  },
  {
   "cell_type": "markdown",
   "metadata": {},
   "source": [
    "# 5. Check if there is a house without a family head."
   ]
  },
  {
   "cell_type": "markdown",
   "metadata": {},
   "source": [
    " - In order to do this, we can create a list of every household ID ('idhogar') and a list of the household ID for all rows that are heads of households ('parentesco1' = 1). If there are any households in the master list that don't appear in the second list, that means those households don't have a head of household."
   ]
  },
  {
   "cell_type": "code",
   "execution_count": 22,
   "metadata": {},
   "outputs": [],
   "source": [
    "# list of every unique household ID in the dataframe\n",
    "\n",
    "all_houses_ids = test_df['idhogar'].unique().tolist()"
   ]
  },
  {
   "cell_type": "code",
   "execution_count": 23,
   "metadata": {},
   "outputs": [
    {
     "data": {
      "text/plain": [
       "7352"
      ]
     },
     "execution_count": 23,
     "metadata": {},
     "output_type": "execute_result"
    }
   ],
   "source": [
    "len(all_houses_ids)"
   ]
  },
  {
   "cell_type": "markdown",
   "metadata": {},
   "source": [
    "This means there are 7352 unique households in the list"
   ]
  },
  {
   "cell_type": "code",
   "execution_count": 24,
   "metadata": {
    "tags": []
   },
   "outputs": [],
   "source": [
    "# make a dataframe of only those who are heads of households\n",
    "\n",
    "house_with_heads_df = test_df[test_df['parentesco1'] == 1]"
   ]
  },
  {
   "cell_type": "markdown",
   "metadata": {},
   "source": [
    "- Check new dataframe's shape to see the number of rows. The number of rows = the number of households with heads."
   ]
  },
  {
   "cell_type": "code",
   "execution_count": 25,
   "metadata": {
    "tags": []
   },
   "outputs": [
    {
     "data": {
      "text/plain": [
       "(7334, 142)"
      ]
     },
     "execution_count": 25,
     "metadata": {},
     "output_type": "execute_result"
    }
   ],
   "source": [
    "house_with_heads_df.shape"
   ]
  },
  {
   "cell_type": "code",
   "execution_count": 26,
   "metadata": {},
   "outputs": [
    {
     "data": {
      "text/plain": [
       "7334"
      ]
     },
     "execution_count": 26,
     "metadata": {},
     "output_type": "execute_result"
    }
   ],
   "source": [
    "# check to see if any households have multiple people who are considered heads by checking how many unique house IDs there are in the list of 7334 household heads.\n",
    "\n",
    "len(house_with_heads_df['idhogar'].unique().tolist())"
   ]
  },
  {
   "cell_type": "markdown",
   "metadata": {},
   "source": [
    "Since the number of unique household IDs (7334) in the heads of households list is the same as the number of total rows, that means every head of household is the head of a unique house. Since there are 7352 unique household IDs and only 7334 heads of households, that means there are 18 households that don't have an identifed Head of the household"
   ]
  },
  {
   "cell_type": "markdown",
   "metadata": {},
   "source": [
    "# 6. Set poverty level of the members and the head of the house within a family."
   ]
  },
  {
   "cell_type": "markdown",
   "metadata": {},
   "source": [
    "Since we are basing our poverty levels off of ownership status, we will need to make a new column and insert a number, 1-5, that indicates the level of ownership. The relationships will be as follows:\n",
    "- Own house = 1\n",
    "- Installment payments = 2\n",
    "- Rent = 3\n",
    "- Precarious = 4\n",
    "- Other = 5\n",
    "\n",
    "To do this, we can use the np.select() function in Numpy"
   ]
  },
  {
   "cell_type": "code",
   "execution_count": 27,
   "metadata": {},
   "outputs": [],
   "source": [
    "# create a list of our conditions\n",
    "\n",
    "conditions = [\n",
    "    (test_df['tipovivi1'] == 1),\n",
    "    (test_df['tipovivi2'] == 1),\n",
    "    (test_df['tipovivi3'] == 1),\n",
    "    (test_df['tipovivi4'] == 1),\n",
    "    (test_df['tipovivi5'] == 1),\n",
    "    ]"
   ]
  },
  {
   "cell_type": "code",
   "execution_count": 28,
   "metadata": {},
   "outputs": [],
   "source": [
    "# create a list of the values we want to assign for each condition\n",
    "\n",
    "values = [1, 2, 3, 4, 5]"
   ]
  },
  {
   "cell_type": "code",
   "execution_count": 29,
   "metadata": {},
   "outputs": [],
   "source": [
    "# create a new column and use np.select to assign values to it using our lists as arguments\n",
    "\n",
    "test_df['Poverty Level'] = np.select(conditions, values)"
   ]
  },
  {
   "cell_type": "code",
   "execution_count": 30,
   "metadata": {},
   "outputs": [
    {
     "data": {
      "text/html": [
       "<div>\n",
       "<style scoped>\n",
       "    .dataframe tbody tr th:only-of-type {\n",
       "        vertical-align: middle;\n",
       "    }\n",
       "\n",
       "    .dataframe tbody tr th {\n",
       "        vertical-align: top;\n",
       "    }\n",
       "\n",
       "    .dataframe thead th {\n",
       "        text-align: right;\n",
       "    }\n",
       "</style>\n",
       "<table border=\"1\" class=\"dataframe\">\n",
       "  <thead>\n",
       "    <tr style=\"text-align: right;\">\n",
       "      <th></th>\n",
       "      <th>Id</th>\n",
       "      <th>v2a1</th>\n",
       "      <th>hacdor</th>\n",
       "      <th>rooms</th>\n",
       "      <th>hacapo</th>\n",
       "      <th>v14a</th>\n",
       "      <th>refrig</th>\n",
       "      <th>v18q</th>\n",
       "      <th>v18q1</th>\n",
       "      <th>r4h1</th>\n",
       "      <th>...</th>\n",
       "      <th>SQBescolari</th>\n",
       "      <th>SQBage</th>\n",
       "      <th>SQBhogar_total</th>\n",
       "      <th>SQBedjefe</th>\n",
       "      <th>SQBhogar_nin</th>\n",
       "      <th>SQBovercrowding</th>\n",
       "      <th>SQBdependency</th>\n",
       "      <th>SQBmeaned</th>\n",
       "      <th>agesq</th>\n",
       "      <th>Poverty Level</th>\n",
       "    </tr>\n",
       "  </thead>\n",
       "  <tbody>\n",
       "    <tr>\n",
       "      <th>0</th>\n",
       "      <td>ID_2f6873615</td>\n",
       "      <td>NaN</td>\n",
       "      <td>0</td>\n",
       "      <td>5</td>\n",
       "      <td>0</td>\n",
       "      <td>1</td>\n",
       "      <td>1</td>\n",
       "      <td>0</td>\n",
       "      <td>NaN</td>\n",
       "      <td>1</td>\n",
       "      <td>...</td>\n",
       "      <td>0</td>\n",
       "      <td>16</td>\n",
       "      <td>9</td>\n",
       "      <td>0</td>\n",
       "      <td>1</td>\n",
       "      <td>2.25</td>\n",
       "      <td>0.25</td>\n",
       "      <td>272.25</td>\n",
       "      <td>16</td>\n",
       "      <td>1</td>\n",
       "    </tr>\n",
       "    <tr>\n",
       "      <th>1</th>\n",
       "      <td>ID_1c78846d2</td>\n",
       "      <td>NaN</td>\n",
       "      <td>0</td>\n",
       "      <td>5</td>\n",
       "      <td>0</td>\n",
       "      <td>1</td>\n",
       "      <td>1</td>\n",
       "      <td>0</td>\n",
       "      <td>NaN</td>\n",
       "      <td>1</td>\n",
       "      <td>...</td>\n",
       "      <td>256</td>\n",
       "      <td>1681</td>\n",
       "      <td>9</td>\n",
       "      <td>0</td>\n",
       "      <td>1</td>\n",
       "      <td>2.25</td>\n",
       "      <td>0.25</td>\n",
       "      <td>272.25</td>\n",
       "      <td>1681</td>\n",
       "      <td>1</td>\n",
       "    </tr>\n",
       "    <tr>\n",
       "      <th>2</th>\n",
       "      <td>ID_e5442cf6a</td>\n",
       "      <td>NaN</td>\n",
       "      <td>0</td>\n",
       "      <td>5</td>\n",
       "      <td>0</td>\n",
       "      <td>1</td>\n",
       "      <td>1</td>\n",
       "      <td>0</td>\n",
       "      <td>NaN</td>\n",
       "      <td>1</td>\n",
       "      <td>...</td>\n",
       "      <td>289</td>\n",
       "      <td>1681</td>\n",
       "      <td>9</td>\n",
       "      <td>0</td>\n",
       "      <td>1</td>\n",
       "      <td>2.25</td>\n",
       "      <td>0.25</td>\n",
       "      <td>272.25</td>\n",
       "      <td>1681</td>\n",
       "      <td>1</td>\n",
       "    </tr>\n",
       "    <tr>\n",
       "      <th>3</th>\n",
       "      <td>ID_a8db26a79</td>\n",
       "      <td>NaN</td>\n",
       "      <td>0</td>\n",
       "      <td>14</td>\n",
       "      <td>0</td>\n",
       "      <td>1</td>\n",
       "      <td>1</td>\n",
       "      <td>1</td>\n",
       "      <td>1.0</td>\n",
       "      <td>0</td>\n",
       "      <td>...</td>\n",
       "      <td>256</td>\n",
       "      <td>3481</td>\n",
       "      <td>1</td>\n",
       "      <td>256</td>\n",
       "      <td>0</td>\n",
       "      <td>1.00</td>\n",
       "      <td>0.00</td>\n",
       "      <td>256.00</td>\n",
       "      <td>3481</td>\n",
       "      <td>1</td>\n",
       "    </tr>\n",
       "    <tr>\n",
       "      <th>4</th>\n",
       "      <td>ID_a62966799</td>\n",
       "      <td>175000.0</td>\n",
       "      <td>0</td>\n",
       "      <td>4</td>\n",
       "      <td>0</td>\n",
       "      <td>1</td>\n",
       "      <td>1</td>\n",
       "      <td>1</td>\n",
       "      <td>1.0</td>\n",
       "      <td>0</td>\n",
       "      <td>...</td>\n",
       "      <td>121</td>\n",
       "      <td>324</td>\n",
       "      <td>1</td>\n",
       "      <td>0</td>\n",
       "      <td>1</td>\n",
       "      <td>0.25</td>\n",
       "      <td>64.00</td>\n",
       "      <td>NaN</td>\n",
       "      <td>324</td>\n",
       "      <td>3</td>\n",
       "    </tr>\n",
       "  </tbody>\n",
       "</table>\n",
       "<p>5 rows × 143 columns</p>\n",
       "</div>"
      ],
      "text/plain": [
       "             Id      v2a1  hacdor  rooms  hacapo  v14a  refrig  v18q  v18q1  \\\n",
       "0  ID_2f6873615       NaN       0      5       0     1       1     0    NaN   \n",
       "1  ID_1c78846d2       NaN       0      5       0     1       1     0    NaN   \n",
       "2  ID_e5442cf6a       NaN       0      5       0     1       1     0    NaN   \n",
       "3  ID_a8db26a79       NaN       0     14       0     1       1     1    1.0   \n",
       "4  ID_a62966799  175000.0       0      4       0     1       1     1    1.0   \n",
       "\n",
       "   r4h1  ...  SQBescolari  SQBage  SQBhogar_total  SQBedjefe  SQBhogar_nin  \\\n",
       "0     1  ...            0      16               9          0             1   \n",
       "1     1  ...          256    1681               9          0             1   \n",
       "2     1  ...          289    1681               9          0             1   \n",
       "3     0  ...          256    3481               1        256             0   \n",
       "4     0  ...          121     324               1          0             1   \n",
       "\n",
       "   SQBovercrowding  SQBdependency  SQBmeaned  agesq  Poverty Level  \n",
       "0             2.25           0.25     272.25     16              1  \n",
       "1             2.25           0.25     272.25   1681              1  \n",
       "2             2.25           0.25     272.25   1681              1  \n",
       "3             1.00           0.00     256.00   3481              1  \n",
       "4             0.25          64.00        NaN    324              3  \n",
       "\n",
       "[5 rows x 143 columns]"
      ]
     },
     "execution_count": 30,
     "metadata": {},
     "output_type": "execute_result"
    }
   ],
   "source": [
    "# display updated DataFrame\n",
    "\n",
    "test_df.head()"
   ]
  },
  {
   "cell_type": "code",
   "execution_count": 31,
   "metadata": {},
   "outputs": [],
   "source": [
    "# pull the columns I want to check and explore the data to confirm that the Poverty Level matches with the ownership level\n",
    "\n",
    "pov_df = test_df[['tipovivi1' , 'tipovivi2', 'tipovivi3', 'tipovivi4', 'tipovivi5', 'Poverty Level']]"
   ]
  },
  {
   "cell_type": "code",
   "execution_count": 32,
   "metadata": {},
   "outputs": [
    {
     "data": {
      "text/html": [
       "<div>\n",
       "<style scoped>\n",
       "    .dataframe tbody tr th:only-of-type {\n",
       "        vertical-align: middle;\n",
       "    }\n",
       "\n",
       "    .dataframe tbody tr th {\n",
       "        vertical-align: top;\n",
       "    }\n",
       "\n",
       "    .dataframe thead th {\n",
       "        text-align: right;\n",
       "    }\n",
       "</style>\n",
       "<table border=\"1\" class=\"dataframe\">\n",
       "  <thead>\n",
       "    <tr style=\"text-align: right;\">\n",
       "      <th></th>\n",
       "      <th>tipovivi1</th>\n",
       "      <th>tipovivi2</th>\n",
       "      <th>tipovivi3</th>\n",
       "      <th>tipovivi4</th>\n",
       "      <th>tipovivi5</th>\n",
       "      <th>Poverty Level</th>\n",
       "    </tr>\n",
       "  </thead>\n",
       "  <tbody>\n",
       "    <tr>\n",
       "      <th>0</th>\n",
       "      <td>1</td>\n",
       "      <td>0</td>\n",
       "      <td>0</td>\n",
       "      <td>0</td>\n",
       "      <td>0</td>\n",
       "      <td>1</td>\n",
       "    </tr>\n",
       "    <tr>\n",
       "      <th>1</th>\n",
       "      <td>1</td>\n",
       "      <td>0</td>\n",
       "      <td>0</td>\n",
       "      <td>0</td>\n",
       "      <td>0</td>\n",
       "      <td>1</td>\n",
       "    </tr>\n",
       "    <tr>\n",
       "      <th>2</th>\n",
       "      <td>1</td>\n",
       "      <td>0</td>\n",
       "      <td>0</td>\n",
       "      <td>0</td>\n",
       "      <td>0</td>\n",
       "      <td>1</td>\n",
       "    </tr>\n",
       "  </tbody>\n",
       "</table>\n",
       "</div>"
      ],
      "text/plain": [
       "   tipovivi1  tipovivi2  tipovivi3  tipovivi4  tipovivi5  Poverty Level\n",
       "0          1          0          0          0          0              1\n",
       "1          1          0          0          0          0              1\n",
       "2          1          0          0          0          0              1"
      ]
     },
     "execution_count": 32,
     "metadata": {},
     "output_type": "execute_result"
    }
   ],
   "source": [
    "# check to confirm the assignment worked for each level of ownership\n",
    "\n",
    "pov_df.loc[pov_df['tipovivi1'] == 1].head(3)"
   ]
  },
  {
   "cell_type": "code",
   "execution_count": 33,
   "metadata": {},
   "outputs": [
    {
     "data": {
      "text/html": [
       "<div>\n",
       "<style scoped>\n",
       "    .dataframe tbody tr th:only-of-type {\n",
       "        vertical-align: middle;\n",
       "    }\n",
       "\n",
       "    .dataframe tbody tr th {\n",
       "        vertical-align: top;\n",
       "    }\n",
       "\n",
       "    .dataframe thead th {\n",
       "        text-align: right;\n",
       "    }\n",
       "</style>\n",
       "<table border=\"1\" class=\"dataframe\">\n",
       "  <thead>\n",
       "    <tr style=\"text-align: right;\">\n",
       "      <th></th>\n",
       "      <th>tipovivi1</th>\n",
       "      <th>tipovivi2</th>\n",
       "      <th>tipovivi3</th>\n",
       "      <th>tipovivi4</th>\n",
       "      <th>tipovivi5</th>\n",
       "      <th>Poverty Level</th>\n",
       "    </tr>\n",
       "  </thead>\n",
       "  <tbody>\n",
       "    <tr>\n",
       "      <th>5</th>\n",
       "      <td>0</td>\n",
       "      <td>1</td>\n",
       "      <td>0</td>\n",
       "      <td>0</td>\n",
       "      <td>0</td>\n",
       "      <td>2</td>\n",
       "    </tr>\n",
       "    <tr>\n",
       "      <th>6</th>\n",
       "      <td>0</td>\n",
       "      <td>1</td>\n",
       "      <td>0</td>\n",
       "      <td>0</td>\n",
       "      <td>0</td>\n",
       "      <td>2</td>\n",
       "    </tr>\n",
       "    <tr>\n",
       "      <th>67</th>\n",
       "      <td>0</td>\n",
       "      <td>1</td>\n",
       "      <td>0</td>\n",
       "      <td>0</td>\n",
       "      <td>0</td>\n",
       "      <td>2</td>\n",
       "    </tr>\n",
       "  </tbody>\n",
       "</table>\n",
       "</div>"
      ],
      "text/plain": [
       "    tipovivi1  tipovivi2  tipovivi3  tipovivi4  tipovivi5  Poverty Level\n",
       "5           0          1          0          0          0              2\n",
       "6           0          1          0          0          0              2\n",
       "67          0          1          0          0          0              2"
      ]
     },
     "execution_count": 33,
     "metadata": {},
     "output_type": "execute_result"
    }
   ],
   "source": [
    "pov_df.loc[pov_df['tipovivi2'] == 1].head(3)"
   ]
  },
  {
   "cell_type": "code",
   "execution_count": 34,
   "metadata": {},
   "outputs": [
    {
     "data": {
      "text/html": [
       "<div>\n",
       "<style scoped>\n",
       "    .dataframe tbody tr th:only-of-type {\n",
       "        vertical-align: middle;\n",
       "    }\n",
       "\n",
       "    .dataframe tbody tr th {\n",
       "        vertical-align: top;\n",
       "    }\n",
       "\n",
       "    .dataframe thead th {\n",
       "        text-align: right;\n",
       "    }\n",
       "</style>\n",
       "<table border=\"1\" class=\"dataframe\">\n",
       "  <thead>\n",
       "    <tr style=\"text-align: right;\">\n",
       "      <th></th>\n",
       "      <th>tipovivi1</th>\n",
       "      <th>tipovivi2</th>\n",
       "      <th>tipovivi3</th>\n",
       "      <th>tipovivi4</th>\n",
       "      <th>tipovivi5</th>\n",
       "      <th>Poverty Level</th>\n",
       "    </tr>\n",
       "  </thead>\n",
       "  <tbody>\n",
       "    <tr>\n",
       "      <th>4</th>\n",
       "      <td>0</td>\n",
       "      <td>0</td>\n",
       "      <td>1</td>\n",
       "      <td>0</td>\n",
       "      <td>0</td>\n",
       "      <td>3</td>\n",
       "    </tr>\n",
       "    <tr>\n",
       "      <th>7</th>\n",
       "      <td>0</td>\n",
       "      <td>0</td>\n",
       "      <td>1</td>\n",
       "      <td>0</td>\n",
       "      <td>0</td>\n",
       "      <td>3</td>\n",
       "    </tr>\n",
       "    <tr>\n",
       "      <th>8</th>\n",
       "      <td>0</td>\n",
       "      <td>0</td>\n",
       "      <td>1</td>\n",
       "      <td>0</td>\n",
       "      <td>0</td>\n",
       "      <td>3</td>\n",
       "    </tr>\n",
       "  </tbody>\n",
       "</table>\n",
       "</div>"
      ],
      "text/plain": [
       "   tipovivi1  tipovivi2  tipovivi3  tipovivi4  tipovivi5  Poverty Level\n",
       "4          0          0          1          0          0              3\n",
       "7          0          0          1          0          0              3\n",
       "8          0          0          1          0          0              3"
      ]
     },
     "execution_count": 34,
     "metadata": {},
     "output_type": "execute_result"
    }
   ],
   "source": [
    "pov_df.loc[pov_df['tipovivi3'] == 1].head(3)"
   ]
  },
  {
   "cell_type": "code",
   "execution_count": 35,
   "metadata": {},
   "outputs": [
    {
     "data": {
      "text/html": [
       "<div>\n",
       "<style scoped>\n",
       "    .dataframe tbody tr th:only-of-type {\n",
       "        vertical-align: middle;\n",
       "    }\n",
       "\n",
       "    .dataframe tbody tr th {\n",
       "        vertical-align: top;\n",
       "    }\n",
       "\n",
       "    .dataframe thead th {\n",
       "        text-align: right;\n",
       "    }\n",
       "</style>\n",
       "<table border=\"1\" class=\"dataframe\">\n",
       "  <thead>\n",
       "    <tr style=\"text-align: right;\">\n",
       "      <th></th>\n",
       "      <th>tipovivi1</th>\n",
       "      <th>tipovivi2</th>\n",
       "      <th>tipovivi3</th>\n",
       "      <th>tipovivi4</th>\n",
       "      <th>tipovivi5</th>\n",
       "      <th>Poverty Level</th>\n",
       "    </tr>\n",
       "  </thead>\n",
       "  <tbody>\n",
       "    <tr>\n",
       "      <th>410</th>\n",
       "      <td>0</td>\n",
       "      <td>0</td>\n",
       "      <td>0</td>\n",
       "      <td>1</td>\n",
       "      <td>0</td>\n",
       "      <td>4</td>\n",
       "    </tr>\n",
       "    <tr>\n",
       "      <th>411</th>\n",
       "      <td>0</td>\n",
       "      <td>0</td>\n",
       "      <td>0</td>\n",
       "      <td>1</td>\n",
       "      <td>0</td>\n",
       "      <td>4</td>\n",
       "    </tr>\n",
       "    <tr>\n",
       "      <th>412</th>\n",
       "      <td>0</td>\n",
       "      <td>0</td>\n",
       "      <td>0</td>\n",
       "      <td>1</td>\n",
       "      <td>0</td>\n",
       "      <td>4</td>\n",
       "    </tr>\n",
       "  </tbody>\n",
       "</table>\n",
       "</div>"
      ],
      "text/plain": [
       "     tipovivi1  tipovivi2  tipovivi3  tipovivi4  tipovivi5  Poverty Level\n",
       "410          0          0          0          1          0              4\n",
       "411          0          0          0          1          0              4\n",
       "412          0          0          0          1          0              4"
      ]
     },
     "execution_count": 35,
     "metadata": {},
     "output_type": "execute_result"
    }
   ],
   "source": [
    "pov_df.loc[pov_df['tipovivi4'] == 1].head(3)"
   ]
  },
  {
   "cell_type": "code",
   "execution_count": 36,
   "metadata": {},
   "outputs": [
    {
     "data": {
      "text/html": [
       "<div>\n",
       "<style scoped>\n",
       "    .dataframe tbody tr th:only-of-type {\n",
       "        vertical-align: middle;\n",
       "    }\n",
       "\n",
       "    .dataframe tbody tr th {\n",
       "        vertical-align: top;\n",
       "    }\n",
       "\n",
       "    .dataframe thead th {\n",
       "        text-align: right;\n",
       "    }\n",
       "</style>\n",
       "<table border=\"1\" class=\"dataframe\">\n",
       "  <thead>\n",
       "    <tr style=\"text-align: right;\">\n",
       "      <th></th>\n",
       "      <th>tipovivi1</th>\n",
       "      <th>tipovivi2</th>\n",
       "      <th>tipovivi3</th>\n",
       "      <th>tipovivi4</th>\n",
       "      <th>tipovivi5</th>\n",
       "      <th>Poverty Level</th>\n",
       "    </tr>\n",
       "  </thead>\n",
       "  <tbody>\n",
       "    <tr>\n",
       "      <th>22</th>\n",
       "      <td>0</td>\n",
       "      <td>0</td>\n",
       "      <td>0</td>\n",
       "      <td>0</td>\n",
       "      <td>1</td>\n",
       "      <td>5</td>\n",
       "    </tr>\n",
       "    <tr>\n",
       "      <th>23</th>\n",
       "      <td>0</td>\n",
       "      <td>0</td>\n",
       "      <td>0</td>\n",
       "      <td>0</td>\n",
       "      <td>1</td>\n",
       "      <td>5</td>\n",
       "    </tr>\n",
       "    <tr>\n",
       "      <th>28</th>\n",
       "      <td>0</td>\n",
       "      <td>0</td>\n",
       "      <td>0</td>\n",
       "      <td>0</td>\n",
       "      <td>1</td>\n",
       "      <td>5</td>\n",
       "    </tr>\n",
       "  </tbody>\n",
       "</table>\n",
       "</div>"
      ],
      "text/plain": [
       "    tipovivi1  tipovivi2  tipovivi3  tipovivi4  tipovivi5  Poverty Level\n",
       "22          0          0          0          0          1              5\n",
       "23          0          0          0          0          1              5\n",
       "28          0          0          0          0          1              5"
      ]
     },
     "execution_count": 36,
     "metadata": {},
     "output_type": "execute_result"
    }
   ],
   "source": [
    "pov_df.loc[pov_df['tipovivi5'] == 1].head(3)"
   ]
  },
  {
   "cell_type": "markdown",
   "metadata": {},
   "source": [
    "# 7. Count how many null values are existing in columns."
   ]
  },
  {
   "cell_type": "code",
   "execution_count": 37,
   "metadata": {},
   "outputs": [
    {
     "data": {
      "text/plain": [
       "Id                     0\n",
       "v2a1               17403\n",
       "hacdor                 0\n",
       "rooms                  0\n",
       "hacapo                 0\n",
       "v14a                   0\n",
       "refrig                 0\n",
       "v18q                   0\n",
       "v18q1              18126\n",
       "r4h1                   0\n",
       "r4h2                   0\n",
       "r4h3                   0\n",
       "r4m1                   0\n",
       "r4m2                   0\n",
       "r4m3                   0\n",
       "r4t1                   0\n",
       "r4t2                   0\n",
       "r4t3                   0\n",
       "tamhog                 0\n",
       "tamviv                 0\n",
       "escolari               0\n",
       "rez_esc            19653\n",
       "hhsize                 0\n",
       "paredblolad            0\n",
       "paredzocalo            0\n",
       "paredpreb              0\n",
       "pareddes               0\n",
       "paredmad               0\n",
       "paredzinc              0\n",
       "paredfibras            0\n",
       "paredother             0\n",
       "pisomoscer             0\n",
       "pisocemento            0\n",
       "pisoother              0\n",
       "pisonatur              0\n",
       "pisonotiene            0\n",
       "pisomadera             0\n",
       "techozinc              0\n",
       "techoentrepiso         0\n",
       "techocane              0\n",
       "techootro              0\n",
       "cielorazo              0\n",
       "abastaguadentro        0\n",
       "abastaguafuera         0\n",
       "abastaguano            0\n",
       "public                 0\n",
       "planpri                0\n",
       "noelec                 0\n",
       "coopele                0\n",
       "sanitario1             0\n",
       "sanitario2             0\n",
       "sanitario3             0\n",
       "sanitario5             0\n",
       "sanitario6             0\n",
       "energcocinar1          0\n",
       "energcocinar2          0\n",
       "energcocinar3          0\n",
       "energcocinar4          0\n",
       "elimbasu1              0\n",
       "elimbasu2              0\n",
       "elimbasu3              0\n",
       "elimbasu4              0\n",
       "elimbasu5              0\n",
       "elimbasu6              0\n",
       "epared1                0\n",
       "epared2                0\n",
       "epared3                0\n",
       "etecho1                0\n",
       "etecho2                0\n",
       "etecho3                0\n",
       "eviv1                  0\n",
       "eviv2                  0\n",
       "eviv3                  0\n",
       "dis                    0\n",
       "male                   0\n",
       "female                 0\n",
       "estadocivil1           0\n",
       "estadocivil2           0\n",
       "estadocivil3           0\n",
       "estadocivil4           0\n",
       "estadocivil5           0\n",
       "estadocivil6           0\n",
       "estadocivil7           0\n",
       "parentesco1            0\n",
       "parentesco2            0\n",
       "parentesco3            0\n",
       "parentesco4            0\n",
       "parentesco5            0\n",
       "parentesco6            0\n",
       "parentesco7            0\n",
       "parentesco8            0\n",
       "parentesco9            0\n",
       "parentesco10           0\n",
       "parentesco11           0\n",
       "parentesco12           0\n",
       "idhogar                0\n",
       "hogar_nin              0\n",
       "hogar_adul             0\n",
       "hogar_mayor            0\n",
       "hogar_total            0\n",
       "dependency             0\n",
       "edjefe                 0\n",
       "edjefa                 0\n",
       "meaneduc              31\n",
       "instlevel1             0\n",
       "instlevel2             0\n",
       "instlevel3             0\n",
       "instlevel4             0\n",
       "instlevel5             0\n",
       "instlevel6             0\n",
       "instlevel7             0\n",
       "instlevel8             0\n",
       "instlevel9             0\n",
       "bedrooms               0\n",
       "overcrowding           0\n",
       "tipovivi1              0\n",
       "tipovivi2              0\n",
       "tipovivi3              0\n",
       "tipovivi4              0\n",
       "tipovivi5              0\n",
       "computer               0\n",
       "television             0\n",
       "mobilephone            0\n",
       "qmobilephone           0\n",
       "lugar1                 0\n",
       "lugar2                 0\n",
       "lugar3                 0\n",
       "lugar4                 0\n",
       "lugar5                 0\n",
       "lugar6                 0\n",
       "area1                  0\n",
       "area2                  0\n",
       "age                    0\n",
       "SQBescolari            0\n",
       "SQBage                 0\n",
       "SQBhogar_total         0\n",
       "SQBedjefe              0\n",
       "SQBhogar_nin           0\n",
       "SQBovercrowding        0\n",
       "SQBdependency          0\n",
       "SQBmeaned             31\n",
       "agesq                  0\n",
       "Poverty Level          0\n",
       "dtype: int64"
      ]
     },
     "execution_count": 37,
     "metadata": {},
     "output_type": "execute_result"
    }
   ],
   "source": [
    "# return a list of the count of null values in every column in the dataframe\n",
    "\n",
    "test_df.isna().sum()"
   ]
  },
  {
   "cell_type": "markdown",
   "metadata": {},
   "source": [
    "- All of the above null values (v2a1, v18q1, rez_esc, meaneduc, SQBmeaned) are countable questions that can simply be replaced with 0."
   ]
  },
  {
   "cell_type": "code",
   "execution_count": 38,
   "metadata": {},
   "outputs": [],
   "source": [
    "# filling all null values with 0\n",
    "\n",
    "test_df = test_df.fillna(0)"
   ]
  },
  {
   "cell_type": "code",
   "execution_count": 39,
   "metadata": {},
   "outputs": [
    {
     "data": {
      "text/plain": [
       "Id                 0\n",
       "v2a1               0\n",
       "hacdor             0\n",
       "rooms              0\n",
       "hacapo             0\n",
       "v14a               0\n",
       "refrig             0\n",
       "v18q               0\n",
       "v18q1              0\n",
       "r4h1               0\n",
       "r4h2               0\n",
       "r4h3               0\n",
       "r4m1               0\n",
       "r4m2               0\n",
       "r4m3               0\n",
       "r4t1               0\n",
       "r4t2               0\n",
       "r4t3               0\n",
       "tamhog             0\n",
       "tamviv             0\n",
       "escolari           0\n",
       "rez_esc            0\n",
       "hhsize             0\n",
       "paredblolad        0\n",
       "paredzocalo        0\n",
       "paredpreb          0\n",
       "pareddes           0\n",
       "paredmad           0\n",
       "paredzinc          0\n",
       "paredfibras        0\n",
       "paredother         0\n",
       "pisomoscer         0\n",
       "pisocemento        0\n",
       "pisoother          0\n",
       "pisonatur          0\n",
       "pisonotiene        0\n",
       "pisomadera         0\n",
       "techozinc          0\n",
       "techoentrepiso     0\n",
       "techocane          0\n",
       "techootro          0\n",
       "cielorazo          0\n",
       "abastaguadentro    0\n",
       "abastaguafuera     0\n",
       "abastaguano        0\n",
       "public             0\n",
       "planpri            0\n",
       "noelec             0\n",
       "coopele            0\n",
       "sanitario1         0\n",
       "sanitario2         0\n",
       "sanitario3         0\n",
       "sanitario5         0\n",
       "sanitario6         0\n",
       "energcocinar1      0\n",
       "energcocinar2      0\n",
       "energcocinar3      0\n",
       "energcocinar4      0\n",
       "elimbasu1          0\n",
       "elimbasu2          0\n",
       "elimbasu3          0\n",
       "elimbasu4          0\n",
       "elimbasu5          0\n",
       "elimbasu6          0\n",
       "epared1            0\n",
       "epared2            0\n",
       "epared3            0\n",
       "etecho1            0\n",
       "etecho2            0\n",
       "etecho3            0\n",
       "eviv1              0\n",
       "eviv2              0\n",
       "eviv3              0\n",
       "dis                0\n",
       "male               0\n",
       "female             0\n",
       "estadocivil1       0\n",
       "estadocivil2       0\n",
       "estadocivil3       0\n",
       "estadocivil4       0\n",
       "estadocivil5       0\n",
       "estadocivil6       0\n",
       "estadocivil7       0\n",
       "parentesco1        0\n",
       "parentesco2        0\n",
       "parentesco3        0\n",
       "parentesco4        0\n",
       "parentesco5        0\n",
       "parentesco6        0\n",
       "parentesco7        0\n",
       "parentesco8        0\n",
       "parentesco9        0\n",
       "parentesco10       0\n",
       "parentesco11       0\n",
       "parentesco12       0\n",
       "idhogar            0\n",
       "hogar_nin          0\n",
       "hogar_adul         0\n",
       "hogar_mayor        0\n",
       "hogar_total        0\n",
       "dependency         0\n",
       "edjefe             0\n",
       "edjefa             0\n",
       "meaneduc           0\n",
       "instlevel1         0\n",
       "instlevel2         0\n",
       "instlevel3         0\n",
       "instlevel4         0\n",
       "instlevel5         0\n",
       "instlevel6         0\n",
       "instlevel7         0\n",
       "instlevel8         0\n",
       "instlevel9         0\n",
       "bedrooms           0\n",
       "overcrowding       0\n",
       "tipovivi1          0\n",
       "tipovivi2          0\n",
       "tipovivi3          0\n",
       "tipovivi4          0\n",
       "tipovivi5          0\n",
       "computer           0\n",
       "television         0\n",
       "mobilephone        0\n",
       "qmobilephone       0\n",
       "lugar1             0\n",
       "lugar2             0\n",
       "lugar3             0\n",
       "lugar4             0\n",
       "lugar5             0\n",
       "lugar6             0\n",
       "area1              0\n",
       "area2              0\n",
       "age                0\n",
       "SQBescolari        0\n",
       "SQBage             0\n",
       "SQBhogar_total     0\n",
       "SQBedjefe          0\n",
       "SQBhogar_nin       0\n",
       "SQBovercrowding    0\n",
       "SQBdependency      0\n",
       "SQBmeaned          0\n",
       "agesq              0\n",
       "Poverty Level      0\n",
       "dtype: int64"
      ]
     },
     "execution_count": 39,
     "metadata": {},
     "output_type": "execute_result"
    }
   ],
   "source": [
    "test_df.isna().sum()"
   ]
  },
  {
   "cell_type": "markdown",
   "metadata": {},
   "source": [
    "# 8. Remove null value rows of the target variable."
   ]
  },
  {
   "cell_type": "code",
   "execution_count": 40,
   "metadata": {},
   "outputs": [
    {
     "data": {
      "text/plain": [
       "0"
      ]
     },
     "execution_count": 40,
     "metadata": {},
     "output_type": "execute_result"
    }
   ],
   "source": [
    "# checking for null values in the Poverty Level column\n",
    "\n",
    "test_df['Poverty Level'].isna().sum()"
   ]
  },
  {
   "cell_type": "markdown",
   "metadata": {},
   "source": [
    "- None of the rows I am using for my Target Variable -- based off of house ownership -- are null. Thus, I have no rows to remove"
   ]
  },
  {
   "cell_type": "markdown",
   "metadata": {},
   "source": [
    "# 9. Predict the accuracy using random forest classifier."
   ]
  },
  {
   "cell_type": "markdown",
   "metadata": {},
   "source": [
    "- First I need to remove the house ownership columns as they are replaced by my Poverty Level column "
   ]
  },
  {
   "cell_type": "code",
   "execution_count": 41,
   "metadata": {},
   "outputs": [],
   "source": [
    "# making a new dataframe by dropping the unneeded columns\n",
    "\n",
    "poverty_df = test_df.drop(['tipovivi1', 'tipovivi2', 'tipovivi3', 'tipovivi4', 'tipovivi5'], axis=1)"
   ]
  },
  {
   "cell_type": "code",
   "execution_count": 42,
   "metadata": {},
   "outputs": [
    {
     "name": "stdout",
     "output_type": "stream",
     "text": [
      "['Id' 'v2a1' 'hacdor' 'rooms' 'hacapo' 'v14a' 'refrig' 'v18q' 'v18q1'\n",
      " 'r4h1' 'r4h2' 'r4h3' 'r4m1' 'r4m2' 'r4m3' 'r4t1' 'r4t2' 'r4t3' 'tamhog'\n",
      " 'tamviv' 'escolari' 'rez_esc' 'hhsize' 'paredblolad' 'paredzocalo'\n",
      " 'paredpreb' 'pareddes' 'paredmad' 'paredzinc' 'paredfibras' 'paredother'\n",
      " 'pisomoscer' 'pisocemento' 'pisoother' 'pisonatur' 'pisonotiene'\n",
      " 'pisomadera' 'techozinc' 'techoentrepiso' 'techocane' 'techootro'\n",
      " 'cielorazo' 'abastaguadentro' 'abastaguafuera' 'abastaguano' 'public'\n",
      " 'planpri' 'noelec' 'coopele' 'sanitario1' 'sanitario2' 'sanitario3'\n",
      " 'sanitario5' 'sanitario6' 'energcocinar1' 'energcocinar2' 'energcocinar3'\n",
      " 'energcocinar4' 'elimbasu1' 'elimbasu2' 'elimbasu3' 'elimbasu4'\n",
      " 'elimbasu5' 'elimbasu6' 'epared1' 'epared2' 'epared3' 'etecho1' 'etecho2'\n",
      " 'etecho3' 'eviv1' 'eviv2' 'eviv3' 'dis' 'male' 'female' 'estadocivil1'\n",
      " 'estadocivil2' 'estadocivil3' 'estadocivil4' 'estadocivil5'\n",
      " 'estadocivil6' 'estadocivil7' 'parentesco1' 'parentesco2' 'parentesco3'\n",
      " 'parentesco4' 'parentesco5' 'parentesco6' 'parentesco7' 'parentesco8'\n",
      " 'parentesco9' 'parentesco10' 'parentesco11' 'parentesco12' 'idhogar'\n",
      " 'hogar_nin' 'hogar_adul' 'hogar_mayor' 'hogar_total' 'dependency'\n",
      " 'edjefe' 'edjefa' 'meaneduc' 'instlevel1' 'instlevel2' 'instlevel3'\n",
      " 'instlevel4' 'instlevel5' 'instlevel6' 'instlevel7' 'instlevel8'\n",
      " 'instlevel9' 'bedrooms' 'overcrowding' 'computer' 'television'\n",
      " 'mobilephone' 'qmobilephone' 'lugar1' 'lugar2' 'lugar3' 'lugar4' 'lugar5'\n",
      " 'lugar6' 'area1' 'area2' 'age' 'SQBescolari' 'SQBage' 'SQBhogar_total'\n",
      " 'SQBedjefe' 'SQBhogar_nin' 'SQBovercrowding' 'SQBdependency' 'SQBmeaned'\n",
      " 'agesq' 'Poverty Level']\n"
     ]
    }
   ],
   "source": [
    "# confirming the columns are gone\n",
    "\n",
    "print(poverty_df.columns.values)"
   ]
  },
  {
   "cell_type": "code",
   "execution_count": 43,
   "metadata": {},
   "outputs": [],
   "source": [
    "# dropping uneccessary object columns (ID and household ID) and then converting the remaining object columns to integers for modeling\n",
    "\n",
    "poverty_df = poverty_df.drop(['Id', 'idhogar'], axis = 1) "
   ]
  },
  {
   "cell_type": "markdown",
   "metadata": {
    "tags": []
   },
   "source": [
    "- Now, convert remaining object columns to integers"
   ]
  },
  {
   "cell_type": "markdown",
   "metadata": {
    "tags": []
   },
   "source": [
    "The remaining object columns (dependency, edjefe, and edjefa) have a mixture of numbers as well as some responses that are 'yes' or 'no'. For the sake of modeling, I'm going to replace 'no' with 0, remove all the rows with 'yes', calculate the mean with only numbers, and then replace yes with this mean to try and be representative of the data."
   ]
  },
  {
   "cell_type": "code",
   "execution_count": 44,
   "metadata": {},
   "outputs": [],
   "source": [
    "# for dependency column, replacing 'no' with 0\n",
    "\n",
    "poverty_df[\"dependency\"].replace({\"no\": 0}, inplace = True)"
   ]
  },
  {
   "cell_type": "code",
   "execution_count": 45,
   "metadata": {},
   "outputs": [],
   "source": [
    "# removing the columns with 'yes'\n",
    "\n",
    "mean_dep_df = poverty_df[poverty_df['dependency'] != 'yes']"
   ]
  },
  {
   "cell_type": "code",
   "execution_count": 46,
   "metadata": {},
   "outputs": [],
   "source": [
    "# converting column to integers\n",
    "\n",
    "mean_dep_df['dependency'] = mean_dep_df['dependency'].astype(float)"
   ]
  },
  {
   "cell_type": "code",
   "execution_count": 47,
   "metadata": {
    "tags": []
   },
   "outputs": [
    {
     "data": {
      "text/plain": [
       "1.2342287072195222"
      ]
     },
     "execution_count": 47,
     "metadata": {},
     "output_type": "execute_result"
    }
   ],
   "source": [
    "# mean of dependency column\n",
    "\n",
    "mean_dep_df['dependency'].mean()"
   ]
  },
  {
   "cell_type": "code",
   "execution_count": 48,
   "metadata": {},
   "outputs": [],
   "source": [
    "# replacing dependency columns of 'yes' with the mean\n",
    "\n",
    "poverty_df[\"dependency\"].replace({\"yes\": 1.2342287072195222}, inplace = True)"
   ]
  },
  {
   "cell_type": "code",
   "execution_count": 49,
   "metadata": {},
   "outputs": [
    {
     "data": {
      "text/plain": [
       "array(['.5', 0, '8', 1.2342287072195222, '.25', '2', '.33333334', '.375',\n",
       "       '.60000002', '1.5', '.2', '.75', '.66666669', '3', '.14285715',\n",
       "       '.40000001', '.80000001', '1.6666666', '.2857143', '1.25', '2.5',\n",
       "       '5', '.85714287', '1.3333334', '.16666667', '4', '.125',\n",
       "       '.83333331', '2.3333333', '7', '1.2', '3.5', '2.25', '3.3333333',\n",
       "       '6'], dtype=object)"
      ]
     },
     "execution_count": 49,
     "metadata": {},
     "output_type": "execute_result"
    }
   ],
   "source": [
    "# confirm it worked\n",
    "\n",
    "poverty_df['dependency'].unique()"
   ]
  },
  {
   "cell_type": "markdown",
   "metadata": {},
   "source": [
    "* Doing the same process for the 'edjefe' and 'edjefa' columns"
   ]
  },
  {
   "cell_type": "code",
   "execution_count": 50,
   "metadata": {
    "tags": []
   },
   "outputs": [
    {
     "data": {
      "text/plain": [
       "5.25204770190553"
      ]
     },
     "execution_count": 50,
     "metadata": {},
     "output_type": "execute_result"
    }
   ],
   "source": [
    "# same process for 'edjefe' column\n",
    "\n",
    "poverty_df[\"edjefe\"].replace({\"no\": 0}, inplace = True)\n",
    "mean_edjefe_df = poverty_df[poverty_df['edjefe'] != 'yes']\n",
    "mean_edjefe_df['edjefe'] = mean_edjefe_df['edjefe'].astype(float)\n",
    "mean_edjefe_df['edjefe'].mean()"
   ]
  },
  {
   "cell_type": "code",
   "execution_count": 51,
   "metadata": {},
   "outputs": [],
   "source": [
    "poverty_df[\"edjefe\"].replace({\"yes\": 5.25204770190553}, inplace = True)"
   ]
  },
  {
   "cell_type": "code",
   "execution_count": 52,
   "metadata": {},
   "outputs": [
    {
     "data": {
      "text/plain": [
       "2.8111846822150057"
      ]
     },
     "execution_count": 52,
     "metadata": {},
     "output_type": "execute_result"
    }
   ],
   "source": [
    "poverty_df[\"edjefa\"].replace({\"no\": 0}, inplace = True)\n",
    "mean_edjefe_df = poverty_df[poverty_df['edjefa'] != 'yes']\n",
    "mean_edjefe_df['edjefa'] = mean_edjefe_df['edjefa'].astype(float)\n",
    "mean_edjefe_df['edjefa'].mean()"
   ]
  },
  {
   "cell_type": "code",
   "execution_count": 53,
   "metadata": {},
   "outputs": [],
   "source": [
    "poverty_df[\"edjefa\"].replace({\"yes\": 5.25204770190553}, inplace = True)"
   ]
  },
  {
   "cell_type": "code",
   "execution_count": 54,
   "metadata": {},
   "outputs": [
    {
     "name": "stdout",
     "output_type": "stream",
     "text": [
      "[0 '16' '10' '6' '11' '8' '13' '14' '5' '3' '9' '17' '15' '7' '21' '4'\n",
      " '12' '2' '20' 5.25204770190553 '19' '18']\n",
      "['17' 0 '11' '14' '10' '15' '9' '6' '8' '3' '2' '5' '16' '12'\n",
      " 5.25204770190553 '7' '13' '21' '4' '19' '18' '20']\n"
     ]
    }
   ],
   "source": [
    "# confirm all processes worked\n",
    "\n",
    "print(poverty_df['edjefe'].unique())\n",
    "print(poverty_df['edjefa'].unique())"
   ]
  },
  {
   "cell_type": "code",
   "execution_count": 55,
   "metadata": {},
   "outputs": [],
   "source": [
    "# isolating input and output columns\n",
    "\n",
    "poverty_input = poverty_df.drop(['Poverty Level'], axis = 1)\n",
    "poverty_output = poverty_df[['Poverty Level']]"
   ]
  },
  {
   "cell_type": "code",
   "execution_count": 56,
   "metadata": {},
   "outputs": [],
   "source": [
    "# creating train and test splits\n",
    "\n",
    "X_train, X_test, y_train, y_test = train_test_split(poverty_input, poverty_output, test_size=0.3, random_state = 13)"
   ]
  },
  {
   "cell_type": "code",
   "execution_count": 57,
   "metadata": {},
   "outputs": [
    {
     "name": "stdout",
     "output_type": "stream",
     "text": [
      "(16699, 135) (7157, 135) (16699, 1) (7157, 1)\n"
     ]
    }
   ],
   "source": [
    "# checking the shapes of my data sets\n",
    "\n",
    "print(X_train.shape, X_test.shape, y_train.shape, y_test.shape)"
   ]
  },
  {
   "cell_type": "code",
   "execution_count": 58,
   "metadata": {},
   "outputs": [],
   "source": [
    "# using ravel on the y vectors to make them a 1d array\n",
    "\n",
    "y_train = np.ravel(y_train)\n",
    "y_test = np.ravel(y_test)"
   ]
  },
  {
   "cell_type": "code",
   "execution_count": 59,
   "metadata": {},
   "outputs": [
    {
     "name": "stdout",
     "output_type": "stream",
     "text": [
      "(16699,)\n",
      "(7157,)\n"
     ]
    }
   ],
   "source": [
    "# confirm shapes are now correct\n",
    "\n",
    "print(y_train.shape)\n",
    "print(y_test.shape)"
   ]
  },
  {
   "cell_type": "code",
   "execution_count": 60,
   "metadata": {},
   "outputs": [],
   "source": [
    "# building a random forest classifier\n",
    "\n",
    "classifier = RandomForestClassifier()"
   ]
  },
  {
   "cell_type": "code",
   "execution_count": 61,
   "metadata": {},
   "outputs": [
    {
     "data": {
      "text/plain": [
       "RandomForestClassifier()"
      ]
     },
     "execution_count": 61,
     "metadata": {},
     "output_type": "execute_result"
    }
   ],
   "source": [
    "# fit the classifier\n",
    "\n",
    "classifier.fit(X_train, y_train)"
   ]
  },
  {
   "cell_type": "code",
   "execution_count": 62,
   "metadata": {},
   "outputs": [
    {
     "name": "stdout",
     "output_type": "stream",
     "text": [
      "0.9413161939360067\n"
     ]
    }
   ],
   "source": [
    "y_predict = classifier.predict(X_test)\n",
    "accuracy = accuracy_score(y_predict, y_test)\n",
    "print(accuracy)"
   ]
  },
  {
   "cell_type": "markdown",
   "metadata": {
    "tags": []
   },
   "source": [
    "# 10. Check the accuracy using random forest with cross validation."
   ]
  },
  {
   "cell_type": "code",
   "execution_count": 63,
   "metadata": {
    "tags": []
   },
   "outputs": [],
   "source": [
    "# build random forest classifier\n",
    "\n",
    "rf_class = RandomForestClassifier()"
   ]
  },
  {
   "cell_type": "code",
   "execution_count": 64,
   "metadata": {},
   "outputs": [
    {
     "name": "stdout",
     "output_type": "stream",
     "text": [
      "Accuracy of Random Forests is:  93.89186755309034\n"
     ]
    }
   ],
   "source": [
    "# dertermine accuracy of Random Forest model using Cross Validation and printing the score as a percentage\n",
    "\n",
    "accuracy = cross_val_score(rf_class, X_train, y_train, scoring='accuracy', cv=10).mean()*100\n",
    "print('Accuracy of Random Forests is: ', accuracy)"
   ]
  }
 ],
 "metadata": {
  "kernelspec": {
   "display_name": "Python 3",
   "language": "python",
   "name": "python3"
  },
  "language_info": {
   "codemirror_mode": {
    "name": "ipython",
    "version": 3
   },
   "file_extension": ".py",
   "mimetype": "text/x-python",
   "name": "python",
   "nbconvert_exporter": "python",
   "pygments_lexer": "ipython3",
   "version": "3.7.6"
  }
 },
 "nbformat": 4,
 "nbformat_minor": 4
}
